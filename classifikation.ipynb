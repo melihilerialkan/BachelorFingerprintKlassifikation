{
  "nbformat": 4,
  "nbformat_minor": 0,
  "metadata": {
    "colab": {
      "name": "classifikation.ipynb",
      "provenance": [],
      "mount_file_id": "1iqYHBNKrbly8IWyVIVZQCTHcwUrM1KV0",
      "authorship_tag": "ABX9TyO2KgAFhp52sP2pvWvy4bFJ",
      "include_colab_link": true
    },
    "kernelspec": {
      "display_name": "Python 3",
      "name": "python3"
    },
    "language_info": {
      "name": "python"
    }
  },
  "cells": [
    {
      "cell_type": "markdown",
      "metadata": {
        "id": "view-in-github",
        "colab_type": "text"
      },
      "source": [
        "<a href=\"https://colab.research.google.com/github/melihilerialkan/BachelorFingerprintKlassifikation/blob/main/classifikation.ipynb\" target=\"_parent\"><img src=\"https://colab.research.google.com/assets/colab-badge.svg\" alt=\"Open In Colab\"/></a>"
      ]
    },
    {
      "cell_type": "code",
      "metadata": {
        "id": "vZee-sMaY5dm"
      },
      "source": [
        "import random\n",
        "import numpy as np\n",
        "import pandas as pd\n",
        "import seaborn as sns\n",
        "import tensorflow as tf\n",
        "import os\n",
        "import cv2\n",
        "import matplotlib.pyplot as plt\n",
        "from keras.utils.np_utils import to_categorical\n",
        "from tensorflow.keras import Sequential, models \n",
        "from tensorflow.keras.layers import Conv2D, MaxPooling2D, Dense, Flatten\n",
        "from tensorflow.keras import layers\n",
        "from tensorflow.keras import optimizers"
      ],
      "execution_count": 1,
      "outputs": []
    },
    {
      "cell_type": "code",
      "metadata": {
        "id": "dn_B14BYlNdM"
      },
      "source": [
        "#Fuer welcher Finger an welcher Hand (10 Klasse)\n",
        "def label_extrahieren(img_path):\n",
        "    name, _ = os.path.splitext(os.path.basename(img_path))\n",
        "\n",
        "    id, usw = name.split('__')\n",
        "\n",
        "    Geschlecht, richtung, finger, _,_ = usw.split('_')\n",
        "\n",
        "    if richtung == 'Left':\n",
        "\n",
        "      if finger == 'thumb':\n",
        "          finger = 0\n",
        "      elif finger == 'index':\n",
        "          finger = 1\n",
        "      elif finger == 'middle':\n",
        "          finger = 2\n",
        "      elif finger == 'ring':\n",
        "          finger = 3\n",
        "      elif finger == 'little':\n",
        "          finger = 4\n",
        "    else:\n",
        "      if finger == 'thumb':\n",
        "          finger = 5\n",
        "      elif finger == 'index':\n",
        "          finger = 6\n",
        "      elif finger == 'middle':\n",
        "          finger = 7\n",
        "      elif finger == 'ring':\n",
        "          finger = 8\n",
        "      elif finger == 'little':\n",
        "          finger = 9\n",
        "\n",
        "\n",
        "    return np.array([finger], dtype=np.uint16)"
      ],
      "execution_count": 31,
      "outputs": []
    },
    {
      "cell_type": "code",
      "metadata": {
        "id": "sSMlv-QXWJ-E"
      },
      "source": [
        "#Fuer welcher Finger an welcher Hand (10 Klasse)\n",
        "def test_label_extrahieren(img_path):\n",
        "    name, _ = os.path.splitext(os.path.basename(img_path))\n",
        "\n",
        "    id, usw = name.split('__')\n",
        "\n",
        "    Geschlecht, richtung, finger, _ = usw.split('_')\n",
        "\n",
        "    if richtung == 'Left':\n",
        "\n",
        "      if finger == 'thumb':\n",
        "          finger = 0\n",
        "      elif finger == 'index':\n",
        "          finger = 1\n",
        "      elif finger == 'middle':\n",
        "          finger = 2\n",
        "      elif finger == 'ring':\n",
        "          finger = 3\n",
        "      elif finger == 'little':\n",
        "          finger = 4\n",
        "    else:\n",
        "      if finger == 'thumb':\n",
        "          finger = 5\n",
        "      elif finger == 'index':\n",
        "          finger = 6\n",
        "      elif finger == 'middle':\n",
        "          finger = 7\n",
        "      elif finger == 'ring':\n",
        "          finger = 8\n",
        "      elif finger == 'little':\n",
        "          finger = 9\n",
        "\n",
        "\n",
        "    return np.array([finger], dtype=np.uint16)"
      ],
      "execution_count": 2,
      "outputs": []
    },
    {
      "cell_type": "code",
      "metadata": {
        "id": "N5X-xRwflVp1"
      },
      "source": [
        "img_size = 96\n",
        "#Function to iterate through all the images\n",
        "def datenladen(path):\n",
        "    data = []\n",
        "    for img in os.listdir(path):\n",
        "    \n",
        "        img_array = cv2.imread(os.path.join(path, img), cv2.IMREAD_GRAYSCALE)\n",
        "        img_resize = cv2.resize(img_array, (img_size, img_size))\n",
        "        label = label_extrahieren(os.path.join(path, img))\n",
        "        data.append([label[0], img_resize ])\n",
        "       \n",
        "    \n",
        "    return data"
      ],
      "execution_count": 32,
      "outputs": []
    },
    {
      "cell_type": "code",
      "metadata": {
        "id": "_na5mU_PWNOg"
      },
      "source": [
        "img_size = 200\n",
        "#Function to iterate through all the images\n",
        "def test_datenladen(path):\n",
        "    data = []\n",
        "    for img in os.listdir(path):\n",
        "    \n",
        "        img_array = cv2.imread(os.path.join(path, img), cv2.IMREAD_GRAYSCALE)\n",
        "        img_resize = cv2.resize(img_array, (img_size, img_size))\n",
        "        label = test_label_extrahieren(os.path.join(path, img))\n",
        "        data.append([label[0], img_resize ])\n",
        "       \n",
        "    \n",
        "    return data"
      ],
      "execution_count": 3,
      "outputs": []
    },
    {
      "cell_type": "code",
      "metadata": {
        "id": "CShs2KdGlYgD"
      },
      "source": [
        "Real_path = \"/content/drive/MyDrive/SOCOFing/Altered/Altered-Medium\"\n",
        "Easy_path = \"/content/drive/MyDrive/test\"\n"
      ],
      "execution_count": 33,
      "outputs": []
    },
    {
      "cell_type": "code",
      "metadata": {
        "id": "kx5KJaO-aG8D"
      },
      "source": [
        "data = datenladen(Real_path)\n",
        "random.shuffle(data)\n",
        "X, y = [], []\n",
        "for label, feature in data:\n",
        "    y.append(label)\n",
        "    X.append(feature)\n",
        "X = np.array(X).reshape(-1, img_size, img_size, 1)\n",
        "X = X / 255.0\n",
        "y = to_categorical(y, num_classes = 10)"
      ],
      "execution_count": 34,
      "outputs": []
    },
    {
      "cell_type": "code",
      "metadata": {
        "id": "HkvxEFWplnU3"
      },
      "source": [
        "test_path = \"/content/drive/MyDrive/input\"\n",
        "# Easy_path = \"/test\"\n",
        "test = test_datenladen(test_path)\n",
        "X_test, y_test = [], []\n",
        "\n",
        "for label, feature in test:\n",
        "    X_test.append(feature)\n",
        "    y_test.append(label)\n",
        "X_test = np.array(X_test).reshape(-1, img_size, img_size, 1)\n",
        "X_test = X_test / 255.0\n",
        "y_test = to_categorical(y_test, num_classes = 10)"
      ],
      "execution_count": 17,
      "outputs": []
    },
    {
      "cell_type": "code",
      "metadata": {
        "id": "sUSuPBajmqDw"
      },
      "source": [
        "from sklearn.model_selection import train_test_split\n",
        "X_train, X_val, y_train, y_val = train_test_split(X, y, test_size = 0.3, random_state = 13)"
      ],
      "execution_count": 35,
      "outputs": []
    },
    {
      "cell_type": "code",
      "metadata": {
        "id": "7UWYL0asKV5p"
      },
      "source": [
        "from tensorflow.keras import Sequential \n",
        "from tensorflow.keras.layers import Conv2D, MaxPooling2D, Dense, Flatten, BatchNormalization, Dropout\n",
        "from tensorflow.keras import layers\n",
        "from tensorflow.keras import optimizers\n",
        "\n",
        "model = Sequential([\n",
        "                    Conv2D(32, 3, padding='same', activation='relu',kernel_initializer='he_uniform', input_shape = [96, 96, 1]),\n",
        "                    MaxPooling2D(2),\n",
        "                    Conv2D(32, 3, padding='same', kernel_initializer='he_uniform', activation='relu'),\n",
        "                    MaxPooling2D(2),\n",
        "                    Flatten(),\n",
        "                    Dense(128, kernel_initializer='he_uniform',activation = 'relu'),\n",
        "                    Dense(10, activation = 'softmax'),\n",
        "                    ])"
      ],
      "execution_count": 40,
      "outputs": []
    },
    {
      "cell_type": "code",
      "metadata": {
        "id": "7SOS-NhgKcog"
      },
      "source": [
        "model.compile(optimizer = optimizers.Adam(1e-4), loss = 'categorical_crossentropy', metrics = ['accuracy'])\n",
        "early_stopping_cb = tf.keras.callbacks.EarlyStopping(monitor='val_loss', patience=10)"
      ],
      "execution_count": 41,
      "outputs": []
    },
    {
      "cell_type": "code",
      "metadata": {
        "colab": {
          "base_uri": "https://localhost:8080/"
        },
        "id": "lfMgeSBbKiB9",
        "outputId": "028f1cd4-ee2a-428b-819c-28986db863b6"
      },
      "source": [
        "history = model.fit(X_train, y_train, batch_size = 128, epochs = 50, \n",
        "          validation_data = (X_val,y_val), callbacks = [early_stopping_cb], verbose = 1)"
      ],
      "execution_count": 42,
      "outputs": [
        {
          "output_type": "stream",
          "text": [
            "Epoch 1/50\n",
            "94/94 [==============================] - 108s 1s/step - loss: 2.2847 - accuracy: 0.2161 - val_loss: 1.6744 - val_accuracy: 0.4066\n",
            "Epoch 2/50\n",
            "94/94 [==============================] - 107s 1s/step - loss: 1.5783 - accuracy: 0.4516 - val_loss: 1.4849 - val_accuracy: 0.4817\n",
            "Epoch 3/50\n",
            "94/94 [==============================] - 107s 1s/step - loss: 1.3968 - accuracy: 0.5130 - val_loss: 1.3701 - val_accuracy: 0.5157\n",
            "Epoch 4/50\n",
            "94/94 [==============================] - 107s 1s/step - loss: 1.2607 - accuracy: 0.5671 - val_loss: 1.2213 - val_accuracy: 0.5764\n",
            "Epoch 5/50\n",
            "94/94 [==============================] - 107s 1s/step - loss: 1.1599 - accuracy: 0.6022 - val_loss: 1.1555 - val_accuracy: 0.5964\n",
            "Epoch 6/50\n",
            "94/94 [==============================] - 107s 1s/step - loss: 1.0759 - accuracy: 0.6430 - val_loss: 1.1248 - val_accuracy: 0.6118\n",
            "Epoch 7/50\n",
            "94/94 [==============================] - 107s 1s/step - loss: 1.0062 - accuracy: 0.6669 - val_loss: 1.1362 - val_accuracy: 0.5975\n",
            "Epoch 8/50\n",
            "94/94 [==============================] - 107s 1s/step - loss: 0.9710 - accuracy: 0.6727 - val_loss: 1.0582 - val_accuracy: 0.6260\n",
            "Epoch 9/50\n",
            "94/94 [==============================] - 107s 1s/step - loss: 0.9249 - accuracy: 0.6904 - val_loss: 1.0276 - val_accuracy: 0.6399\n",
            "Epoch 10/50\n",
            "94/94 [==============================] - 107s 1s/step - loss: 0.8662 - accuracy: 0.7227 - val_loss: 1.0318 - val_accuracy: 0.6378\n",
            "Epoch 11/50\n",
            "94/94 [==============================] - 107s 1s/step - loss: 0.8168 - accuracy: 0.7359 - val_loss: 0.9452 - val_accuracy: 0.6733\n",
            "Epoch 12/50\n",
            "94/94 [==============================] - 107s 1s/step - loss: 0.7741 - accuracy: 0.7650 - val_loss: 0.9508 - val_accuracy: 0.6649\n",
            "Epoch 13/50\n",
            "94/94 [==============================] - 107s 1s/step - loss: 0.7362 - accuracy: 0.7735 - val_loss: 0.9055 - val_accuracy: 0.6921\n",
            "Epoch 14/50\n",
            "94/94 [==============================] - 107s 1s/step - loss: 0.6957 - accuracy: 0.8002 - val_loss: 0.9490 - val_accuracy: 0.6655\n",
            "Epoch 15/50\n",
            "94/94 [==============================] - 107s 1s/step - loss: 0.6688 - accuracy: 0.7958 - val_loss: 0.8732 - val_accuracy: 0.7022\n",
            "Epoch 16/50\n",
            "94/94 [==============================] - 107s 1s/step - loss: 0.6247 - accuracy: 0.8230 - val_loss: 0.8906 - val_accuracy: 0.6946\n",
            "Epoch 17/50\n",
            "94/94 [==============================] - 107s 1s/step - loss: 0.6156 - accuracy: 0.8257 - val_loss: 0.8300 - val_accuracy: 0.7176\n",
            "Epoch 18/50\n",
            "94/94 [==============================] - 107s 1s/step - loss: 0.5915 - accuracy: 0.8386 - val_loss: 0.8179 - val_accuracy: 0.7213\n",
            "Epoch 19/50\n",
            "94/94 [==============================] - 108s 1s/step - loss: 0.5494 - accuracy: 0.8517 - val_loss: 0.7998 - val_accuracy: 0.7321\n",
            "Epoch 20/50\n",
            "94/94 [==============================] - 108s 1s/step - loss: 0.5344 - accuracy: 0.8567 - val_loss: 0.7815 - val_accuracy: 0.7352\n",
            "Epoch 21/50\n",
            "94/94 [==============================] - 107s 1s/step - loss: 0.4964 - accuracy: 0.8751 - val_loss: 0.7755 - val_accuracy: 0.7364\n",
            "Epoch 22/50\n",
            "94/94 [==============================] - 107s 1s/step - loss: 0.4614 - accuracy: 0.8848 - val_loss: 0.7492 - val_accuracy: 0.7495\n",
            "Epoch 23/50\n",
            "94/94 [==============================] - 107s 1s/step - loss: 0.4468 - accuracy: 0.8940 - val_loss: 0.7475 - val_accuracy: 0.7483\n",
            "Epoch 24/50\n",
            "94/94 [==============================] - 107s 1s/step - loss: 0.4362 - accuracy: 0.8984 - val_loss: 0.7310 - val_accuracy: 0.7508\n",
            "Epoch 25/50\n",
            "94/94 [==============================] - 107s 1s/step - loss: 0.4195 - accuracy: 0.9007 - val_loss: 0.7082 - val_accuracy: 0.7620\n",
            "Epoch 26/50\n",
            "94/94 [==============================] - 107s 1s/step - loss: 0.3817 - accuracy: 0.9194 - val_loss: 0.7086 - val_accuracy: 0.7573\n",
            "Epoch 27/50\n",
            "94/94 [==============================] - 108s 1s/step - loss: 0.3710 - accuracy: 0.9154 - val_loss: 0.6792 - val_accuracy: 0.7743\n",
            "Epoch 28/50\n",
            "94/94 [==============================] - 107s 1s/step - loss: 0.3495 - accuracy: 0.9246 - val_loss: 0.6732 - val_accuracy: 0.7686\n",
            "Epoch 29/50\n",
            "94/94 [==============================] - 108s 1s/step - loss: 0.3298 - accuracy: 0.9328 - val_loss: 0.6391 - val_accuracy: 0.7936\n",
            "Epoch 30/50\n",
            "94/94 [==============================] - 108s 1s/step - loss: 0.3088 - accuracy: 0.9409 - val_loss: 0.6472 - val_accuracy: 0.7916\n",
            "Epoch 31/50\n",
            "94/94 [==============================] - 107s 1s/step - loss: 0.2952 - accuracy: 0.9446 - val_loss: 0.6592 - val_accuracy: 0.7723\n",
            "Epoch 32/50\n",
            "94/94 [==============================] - 107s 1s/step - loss: 0.2840 - accuracy: 0.9506 - val_loss: 0.5992 - val_accuracy: 0.8018\n",
            "Epoch 33/50\n",
            "94/94 [==============================] - 108s 1s/step - loss: 0.2637 - accuracy: 0.9564 - val_loss: 0.6093 - val_accuracy: 0.8012\n",
            "Epoch 34/50\n",
            "94/94 [==============================] - 108s 1s/step - loss: 0.2530 - accuracy: 0.9579 - val_loss: 0.5948 - val_accuracy: 0.8063\n",
            "Epoch 35/50\n",
            "94/94 [==============================] - 108s 1s/step - loss: 0.2326 - accuracy: 0.9647 - val_loss: 0.6115 - val_accuracy: 0.7840\n",
            "Epoch 36/50\n",
            "94/94 [==============================] - 107s 1s/step - loss: 0.2387 - accuracy: 0.9602 - val_loss: 0.5670 - val_accuracy: 0.8116\n",
            "Epoch 37/50\n",
            "94/94 [==============================] - 108s 1s/step - loss: 0.2185 - accuracy: 0.9659 - val_loss: 0.5798 - val_accuracy: 0.8120\n",
            "Epoch 38/50\n",
            "94/94 [==============================] - 108s 1s/step - loss: 0.2030 - accuracy: 0.9721 - val_loss: 0.5702 - val_accuracy: 0.8180\n",
            "Epoch 39/50\n",
            "94/94 [==============================] - 107s 1s/step - loss: 0.2006 - accuracy: 0.9702 - val_loss: 0.5621 - val_accuracy: 0.8157\n",
            "Epoch 40/50\n",
            "94/94 [==============================] - 107s 1s/step - loss: 0.1886 - accuracy: 0.9742 - val_loss: 0.5495 - val_accuracy: 0.8231\n",
            "Epoch 41/50\n",
            "94/94 [==============================] - 107s 1s/step - loss: 0.1783 - accuracy: 0.9765 - val_loss: 0.5546 - val_accuracy: 0.8192\n",
            "Epoch 42/50\n",
            "94/94 [==============================] - 107s 1s/step - loss: 0.1665 - accuracy: 0.9787 - val_loss: 0.5230 - val_accuracy: 0.8317\n",
            "Epoch 43/50\n",
            "94/94 [==============================] - 107s 1s/step - loss: 0.1539 - accuracy: 0.9826 - val_loss: 0.5227 - val_accuracy: 0.8293\n",
            "Epoch 44/50\n",
            "94/94 [==============================] - 107s 1s/step - loss: 0.1451 - accuracy: 0.9830 - val_loss: 0.5020 - val_accuracy: 0.8420\n",
            "Epoch 45/50\n",
            "94/94 [==============================] - 107s 1s/step - loss: 0.1377 - accuracy: 0.9872 - val_loss: 0.4826 - val_accuracy: 0.8465\n",
            "Epoch 46/50\n",
            "94/94 [==============================] - 107s 1s/step - loss: 0.1293 - accuracy: 0.9887 - val_loss: 0.5113 - val_accuracy: 0.8369\n",
            "Epoch 47/50\n",
            "94/94 [==============================] - 107s 1s/step - loss: 0.1339 - accuracy: 0.9835 - val_loss: 0.4977 - val_accuracy: 0.8414\n",
            "Epoch 48/50\n",
            "94/94 [==============================] - 107s 1s/step - loss: 0.1188 - accuracy: 0.9890 - val_loss: 0.4792 - val_accuracy: 0.8481\n",
            "Epoch 49/50\n",
            "94/94 [==============================] - 108s 1s/step - loss: 0.1107 - accuracy: 0.9904 - val_loss: 0.4851 - val_accuracy: 0.8453\n",
            "Epoch 50/50\n",
            "94/94 [==============================] - 107s 1s/step - loss: 0.1061 - accuracy: 0.9925 - val_loss: 0.4973 - val_accuracy: 0.8366\n"
          ],
          "name": "stdout"
        }
      ]
    },
    {
      "cell_type": "code",
      "metadata": {
        "colab": {
          "base_uri": "https://localhost:8080/"
        },
        "id": "akG0Fjqqji1q",
        "outputId": "c815678e-1be1-489e-8d8e-15adc890b286"
      },
      "source": [
        "pred = model.predict_classes(X_test)"
      ],
      "execution_count": 10,
      "outputs": [
        {
          "output_type": "stream",
          "text": [
            "/usr/local/lib/python3.7/dist-packages/tensorflow/python/keras/engine/sequential.py:450: UserWarning: `model.predict_classes()` is deprecated and will be removed after 2021-01-01. Please use instead:* `np.argmax(model.predict(x), axis=-1)`,   if your model does multi-class classification   (e.g. if it uses a `softmax` last-layer activation).* `(model.predict(x) > 0.5).astype(\"int32\")`,   if your model does binary classification   (e.g. if it uses a `sigmoid` last-layer activation).\n",
            "  warnings.warn('`model.predict_classes()` is deprecated and '\n"
          ],
          "name": "stderr"
        }
      ]
    },
    {
      "cell_type": "code",
      "metadata": {
        "id": "QoE_Ob9PCLE3"
      },
      "source": [
        "pred = to_categorical(pred, num_classes = 10)"
      ],
      "execution_count": 11,
      "outputs": []
    },
    {
      "cell_type": "code",
      "metadata": {
        "colab": {
          "base_uri": "https://localhost:8080/"
        },
        "id": "mx1Jv8AACNbE",
        "outputId": "c2c3968c-e4d2-41a3-f50e-01208178e028"
      },
      "source": [
        "pred[1]"
      ],
      "execution_count": 12,
      "outputs": [
        {
          "output_type": "execute_result",
          "data": {
            "text/plain": [
              "array([0., 0., 0., 0., 0., 0., 1., 0., 0., 0.], dtype=float32)"
            ]
          },
          "metadata": {
            "tags": []
          },
          "execution_count": 12
        }
      ]
    },
    {
      "cell_type": "code",
      "metadata": {
        "colab": {
          "base_uri": "https://localhost:8080/"
        },
        "id": "07YkCwdD_YH_",
        "outputId": "ceba4ed2-857b-438a-e0cf-60e2f5550044"
      },
      "source": [
        "y_test[1]"
      ],
      "execution_count": 13,
      "outputs": [
        {
          "output_type": "execute_result",
          "data": {
            "text/plain": [
              "array([0., 0., 0., 0., 0., 0., 1., 0., 0., 0.], dtype=float32)"
            ]
          },
          "metadata": {
            "tags": []
          },
          "execution_count": 13
        }
      ]
    }
  ]
}